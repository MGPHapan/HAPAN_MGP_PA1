{
 "cells": [
  {
   "cell_type": "markdown",
   "id": "d2cdec7e-edcb-4046-b0e6-08959cfc9189",
   "metadata": {},
   "source": [
    "2ECE-A_HAPAN: Programming Assignment 1"
   ]
  },
  {
   "cell_type": "markdown",
   "id": "a671c21d-74bf-4f81-8ed8-6be34277cb08",
   "metadata": {},
   "source": [
    "Alphabet Soup Problem"
   ]
  },
  {
   "cell_type": "code",
   "execution_count": 12,
   "id": "285803b6-6ab2-4703-b265-a7ac07831b98",
   "metadata": {},
   "outputs": [
    {
     "name": "stdout",
     "output_type": "stream",
     "text": [
      " ehllo\n",
      " acehkr\n"
     ]
    }
   ],
   "source": [
    "def alphabet_soup(word):\n",
    "    letters = list(word)\n",
    "    letters.sort()\n",
    "    \n",
    "    result = \" \"\n",
    "    for als in letters:\n",
    "        result = result + als\n",
    "\n",
    "    return result\n",
    "\n",
    "print(alphabet_soup(\"hello\"))\n",
    "print(alphabet_soup(\"hacker\"))"
   ]
  },
  {
   "cell_type": "markdown",
   "id": "d0507575-f935-4fbd-b653-23b9c91fe36b",
   "metadata": {},
   "source": [
    "Emoticon Problem"
   ]
  },
  {
   "cell_type": "code",
   "execution_count": 26,
   "id": "47812261-e34e-41dd-8497-2b4700f6ec5e",
   "metadata": {},
   "outputs": [
    {
     "name": "stdout",
     "output_type": "stream",
     "text": [
      "Make me :)\n",
      "I am >:(\n"
     ]
    }
   ],
   "source": [
    "def emotify(sentence):\n",
    "    words = sentence.split()\n",
    "\n",
    "    for e in range(len(words)):\n",
    "        if words[e] == \"smile\":\n",
    "            words[e] = \":)\"\n",
    "        elif words[e] == \"grin\":\n",
    "            words[e] = \":D\"\n",
    "        elif words[e] == \"sad\":\n",
    "            words[e] = \":((\"\n",
    "        elif words[e] == \"mad\":\n",
    "            words [e] = \">:(\"\n",
    "\n",
    "    result = \" \"\n",
    "    for e in range(len(words)):\n",
    "        if e == 0:\n",
    "            result = words[e]\n",
    "        else:\n",
    "            result = result + \" \" + words[e]\n",
    "            \n",
    "    return result\n",
    "\n",
    "print(emotify(\"Make me smile\"))\n",
    "print(emotify(\"I am mad\"))"
   ]
  },
  {
   "cell_type": "markdown",
   "id": "8f216720-865e-4ddc-bc06-199eb29f4309",
   "metadata": {},
   "source": [
    "Unpacking List Problem"
   ]
  },
  {
   "cell_type": "code",
   "execution_count": 29,
   "id": "7d22841f-60b3-4072-9355-a903b605255e",
   "metadata": {},
   "outputs": [
    {
     "name": "stdout",
     "output_type": "stream",
     "text": [
      "first: 1\n",
      "middle: [2, 3, 4, 5]\n",
      "last: 6\n"
     ]
    }
   ],
   "source": [
    "def unpacking_list(ulp):\n",
    "    first = ulp[0]\n",
    "    last = ulp[-1]\n",
    "    middle = []\n",
    "\n",
    "    for n in range(1, len(ulp)-1):\n",
    "        middle.append(ulp[n])\n",
    "\n",
    "    print(\"first:\", first)\n",
    "    print(\"middle:\", middle)\n",
    "    print(\"last:\", last)\n",
    "\n",
    "unpacking_list([1,2,3,4,5,6])"
   ]
  }
 ],
 "metadata": {
  "kernelspec": {
   "display_name": "Python [conda env:base] *",
   "language": "python",
   "name": "conda-base-py"
  },
  "language_info": {
   "codemirror_mode": {
    "name": "ipython",
    "version": 3
   },
   "file_extension": ".py",
   "mimetype": "text/x-python",
   "name": "python",
   "nbconvert_exporter": "python",
   "pygments_lexer": "ipython3",
   "version": "3.13.5"
  }
 },
 "nbformat": 4,
 "nbformat_minor": 5
}
